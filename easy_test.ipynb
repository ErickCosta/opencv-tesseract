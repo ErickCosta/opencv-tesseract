{
 "cells": [
  {
   "cell_type": "code",
   "execution_count": 4,
   "id": "8251b70e-3a6e-4087-9e20-e7181d74bb72",
   "metadata": {},
   "outputs": [
    {
     "name": "stdout",
     "output_type": "stream",
     "text": [
      "rªrªlºª\n",
      "\n",
      "OPSO9ESTE\n",
      "\n",
      "\n"
     ]
    }
   ],
   "source": [
    "import pytesseract\n",
    "import cv2\n",
    "\n",
    "# Load the image\n",
    "image = cv2.imread('cnh-frente.JPG')\n",
    "\n",
    "# Load .exe\n",
    "pytesseract.pytesseract.tesseract_cmd = r'C:\\Program Files\\Tesseract-OCR\\tesseract.exe'\n",
    "\n",
    "# Use Brazilian Portuguese for OCR\n",
    "text = pytesseract.image_to_string(image, lang='por')\n",
    "\n",
    "print(text)"
   ]
  },
  {
   "cell_type": "code",
   "execution_count": null,
   "id": "d015424b-2960-431d-bf62-1129c6201f78",
   "metadata": {},
   "outputs": [],
   "source": []
  }
 ],
 "metadata": {
  "kernelspec": {
   "display_name": "Python 3 (ipykernel)",
   "language": "python",
   "name": "python3"
  },
  "language_info": {
   "codemirror_mode": {
    "name": "ipython",
    "version": 3
   },
   "file_extension": ".py",
   "mimetype": "text/x-python",
   "name": "python",
   "nbconvert_exporter": "python",
   "pygments_lexer": "ipython3",
   "version": "3.12.7"
  }
 },
 "nbformat": 4,
 "nbformat_minor": 5
}
