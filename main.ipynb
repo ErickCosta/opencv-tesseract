{
 "cells": [
  {
   "cell_type": "markdown",
   "id": "f39e0b42-6b0c-4813-b8b3-4dabed1167f3",
   "metadata": {},
   "source": [
    "# Libs"
   ]
  },
  {
   "cell_type": "code",
   "execution_count": 1,
   "id": "c207638b-1c33-4078-8628-1c3576a5fca1",
   "metadata": {
    "ExecuteTime": {
     "end_time": "2024-10-11T18:46:01.025933Z",
     "start_time": "2024-10-11T18:46:01.016403Z"
    }
   },
   "outputs": [],
   "source": [
    "import cv2\n",
    "import pytesseract\n",
    "from pytesseract import Output\n",
    "import re"
   ]
  },
  {
   "cell_type": "code",
   "execution_count": 2,
   "id": "b6c426df-0d15-4637-8ebb-3ec8abf0670d",
   "metadata": {},
   "outputs": [],
   "source": [
    "# Load the image of the identity document\n",
    "image_path = 'cnh-frente.JPG'\n",
    "image = cv2.imread(image_path)"
   ]
  },
  {
   "cell_type": "code",
   "execution_count": 3,
   "id": "7f606483-1604-4967-8aef-bb3af0d5e297",
   "metadata": {},
   "outputs": [],
   "source": [
    "# Set the path to your Tesseract executable\n",
    "# For Windows, for example: \n",
    "pytesseract.pytesseract.tesseract_cmd = r'C:\\Program Files\\Tesseract-OCR\\tesseract.exe'"
   ]
  },
  {
   "cell_type": "code",
   "execution_count": 4,
   "id": "d22e62d1-b2ba-414b-a308-87bc2c8eb7ab",
   "metadata": {},
   "outputs": [
    {
     "ename": "error",
     "evalue": "OpenCV(4.10.0) d:\\a\\opencv-python\\opencv-python\\opencv\\modules\\imgproc\\src\\color.simd_helpers.hpp:92: error: (-2:Unspecified error) in function '__cdecl cv::impl::`anonymous-namespace'::CvtHelper<struct cv::impl::`anonymous namespace'::Set<1,-1,-1>,struct cv::impl::A0x46dff480::Set<3,4,-1>,struct cv::impl::A0x46dff480::Set<0,2,5>,4>::CvtHelper(const class cv::_InputArray &,const class cv::_OutputArray &,int)'\n> Invalid number of channels in input image:\n>     'VScn::contains(scn)'\n> where\n>     'scn' is 3\n",
     "output_type": "error",
     "traceback": [
      "\u001b[1;31m---------------------------------------------------------------------------\u001b[0m",
      "\u001b[1;31merror\u001b[0m                                     Traceback (most recent call last)",
      "Cell \u001b[1;32mIn[4], line 2\u001b[0m\n\u001b[0;32m      1\u001b[0m \u001b[38;5;66;03m# Preprocessing the image\u001b[39;00m\n\u001b[1;32m----> 2\u001b[0m gray \u001b[38;5;241m=\u001b[39m \u001b[43mcv2\u001b[49m\u001b[38;5;241;43m.\u001b[39;49m\u001b[43mcvtColor\u001b[49m\u001b[43m(\u001b[49m\u001b[43mimage\u001b[49m\u001b[43m,\u001b[49m\u001b[43m \u001b[49m\u001b[43mcv2\u001b[49m\u001b[38;5;241;43m.\u001b[39;49m\u001b[43mCOLOR_GRAY2BGRA\u001b[49m\u001b[43m)\u001b[49m  \u001b[38;5;66;03m# Convert to grayscale\u001b[39;00m\n\u001b[0;32m      3\u001b[0m \u001b[38;5;66;03m# gray = cv2.medianBlur(gray, 2)  # Reduce noise\u001b[39;00m\n",
      "\u001b[1;31merror\u001b[0m: OpenCV(4.10.0) d:\\a\\opencv-python\\opencv-python\\opencv\\modules\\imgproc\\src\\color.simd_helpers.hpp:92: error: (-2:Unspecified error) in function '__cdecl cv::impl::`anonymous-namespace'::CvtHelper<struct cv::impl::`anonymous namespace'::Set<1,-1,-1>,struct cv::impl::A0x46dff480::Set<3,4,-1>,struct cv::impl::A0x46dff480::Set<0,2,5>,4>::CvtHelper(const class cv::_InputArray &,const class cv::_OutputArray &,int)'\n> Invalid number of channels in input image:\n>     'VScn::contains(scn)'\n> where\n>     'scn' is 3\n"
     ]
    }
   ],
   "source": [
    "# Preprocessing the image\n",
    "gray = cv2.cvtColor(image, cv2.COLOR_GRAY2BGR)  # Convert to grayscale\n",
    "# gray = cv2.medianBlur(gray, 2)  # Reduce noise"
   ]
  },
  {
   "cell_type": "code",
   "execution_count": null,
   "id": "ccd510d0-89f3-4d7d-a9d2-dcd664f5bd0a",
   "metadata": {},
   "outputs": [],
   "source": [
    "# Apply thresholding to get better OCR results\n",
    "_, threshold_img = cv2.threshold(gray, 150, 255, cv2.THRESH_BINARY)"
   ]
  },
  {
   "cell_type": "code",
   "execution_count": null,
   "id": "23c8b5e3-970e-41f9-be01-5ce5f6a301dd",
   "metadata": {},
   "outputs": [],
   "source": [
    "# Run OCR on the image\n",
    "custom_config = r'--oem 3 --psm 6'  # --psm 6 treats the image as a block of text\n",
    "text_data = pytesseract.image_to_string(threshold_img, config=custom_config)"
   ]
  },
  {
   "cell_type": "code",
   "execution_count": null,
   "id": "b168af63-770c-4b30-962e-905ad6ec4337",
   "metadata": {},
   "outputs": [],
   "source": [
    "# Print the raw OCR output\n",
    "print(\"Extracted Text: \", text_data)"
   ]
  },
  {
   "cell_type": "code",
   "execution_count": null,
   "id": "2144db6e-4405-4b53-9c3d-4da5a61af337",
   "metadata": {},
   "outputs": [],
   "source": [
    "# Date patterns (this can be customized based on your document formats)\n",
    "date_patterns = [\n",
    "    r'\\b\\d{2}/\\d{2}/\\d{4}\\b',  # Matches dates in the format DD/MM/YYYY or MM/DD/YYYY\n",
    "    r'\\b\\d{4}-\\d{2}-\\d{2}\\b',  # Matches dates in the format YYYY-MM-DD\n",
    "    r'\\b\\d{2}-\\d{2}-\\d{4}\\b'   # Matches dates in the format DD-MM-YYYY or MM-DD-YYYY\n",
    "]"
   ]
  },
  {
   "cell_type": "code",
   "execution_count": null,
   "id": "ff1189ff-9c46-4b6a-93cd-09f8720d6cfb",
   "metadata": {},
   "outputs": [],
   "source": [
    "dates_found = []\n",
    "for pattern in date_patterns:\n",
    "    matches = re.findall(pattern, text_data)\n",
    "    dates_found.extend(matches)\n",
    "\n",
    "print(\"Dates Found:\", dates_found)"
   ]
  },
  {
   "cell_type": "code",
   "execution_count": null,
   "id": "8956ff88-a124-4a0a-a26b-ab874396f7a9",
   "metadata": {},
   "outputs": [],
   "source": [
    "# Display the preprocessed image (optional, for debugging)\n",
    "cv2.imshow('Processed Image', threshold_img)\n",
    "cv2.waitKey(0)\n",
    "cv2.destroyAllWindows()"
   ]
  },
  {
   "cell_type": "code",
   "execution_count": null,
   "id": "f0133dc4-7131-4283-a599-aec66bc478cd",
   "metadata": {},
   "outputs": [],
   "source": []
  }
 ],
 "metadata": {
  "kernelspec": {
   "display_name": "Python 3 (ipykernel)",
   "language": "python",
   "name": "python3"
  },
  "language_info": {
   "codemirror_mode": {
    "name": "ipython",
    "version": 3
   },
   "file_extension": ".py",
   "mimetype": "text/x-python",
   "name": "python",
   "nbconvert_exporter": "python",
   "pygments_lexer": "ipython3",
   "version": "3.12.7"
  }
 },
 "nbformat": 4,
 "nbformat_minor": 5
}
