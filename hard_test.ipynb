{
 "cells": [
  {
   "cell_type": "markdown",
   "id": "f39e0b42-6b0c-4813-b8b3-4dabed1167f3",
   "metadata": {},
   "source": [
    "# Libs"
   ]
  },
  {
   "cell_type": "code",
   "execution_count": 1,
   "id": "c207638b-1c33-4078-8628-1c3576a5fca1",
   "metadata": {
    "ExecuteTime": {
     "end_time": "2024-10-11T18:46:01.025933Z",
     "start_time": "2024-10-11T18:46:01.016403Z"
    }
   },
   "outputs": [],
   "source": [
    "import cv2\n",
    "import pytesseract\n",
    "from pytesseract import Output\n",
    "import re"
   ]
  },
  {
   "cell_type": "code",
   "execution_count": 2,
   "id": "b6c426df-0d15-4637-8ebb-3ec8abf0670d",
   "metadata": {},
   "outputs": [],
   "source": [
    "# Load the image of the identity document\n",
    "# image_path = 'cnh.JPG'\n",
    "image_path = 'cnh-frente.JPG'\n",
    "image = cv2.imread(image_path)"
   ]
  },
  {
   "cell_type": "code",
   "execution_count": 3,
   "id": "7f606483-1604-4967-8aef-bb3af0d5e297",
   "metadata": {},
   "outputs": [],
   "source": [
    "# Set the path to your Tesseract executable\n",
    "# For Windows, for example: \n",
    "pytesseract.pytesseract.tesseract_cmd = r'C:\\Program Files\\Tesseract-OCR\\tesseract.exe'"
   ]
  },
  {
   "cell_type": "code",
   "execution_count": 4,
   "id": "d22e62d1-b2ba-414b-a308-87bc2c8eb7ab",
   "metadata": {},
   "outputs": [],
   "source": [
    "# Preprocessing the image\n",
    "gray = cv2.cvtColor(image, cv2.COLOR_BGR2GRAY)  # Convert to grayscale\n",
    "#gray = cv2.medianBlur(gray, 3)  # Reduce noise"
   ]
  },
  {
   "cell_type": "code",
   "execution_count": 5,
   "id": "ccd510d0-89f3-4d7d-a9d2-dcd664f5bd0a",
   "metadata": {},
   "outputs": [],
   "source": [
    "# Apply thresholding to get better OCR results\n",
    "_, threshold_img = cv2.threshold(gray, 150, 255, cv2.THRESH_BINARY)"
   ]
  },
  {
   "cell_type": "code",
   "execution_count": 6,
   "id": "23c8b5e3-970e-41f9-be01-5ce5f6a301dd",
   "metadata": {},
   "outputs": [],
   "source": [
    "# Run OCR on the image\n",
    "custom_config = r'--oem 3 --psm 6 '  # --psm 6 treats the image as a block of text\n",
    "text_data = pytesseract.image_to_string(threshold_img, config=custom_config, lang='por')"
   ]
  },
  {
   "cell_type": "code",
   "execution_count": 7,
   "id": "b168af63-770c-4b30-962e-905ad6ec4337",
   "metadata": {},
   "outputs": [
    {
     "name": "stdout",
     "output_type": "stream",
     "text": [
      "Extracted Text:  e ºº º mrm\n",
      "k ri PEÚBICASEDr RAivVª DO ª RAST éd É!iª.\n",
      "Pª ªªª ªª ns — .. . ª\n",
      "153 Ou rAmendº nº » cissriº ! 't“úg\"-/.:»' —\n",
      "N TOSENEI NA in DEc ª Vº ºª ,a-/“â B\n",
      "! ÉICK JºªN FIDELIS cºsTA\n",
      "” 006 nmensºs: ºº mªtce e\n",
      "3400400 SªP ª\n",
      "” C4 nu mscriirº\n",
      "A 079. 503 724-43'01/09/1990\n",
      "! nuªçãº\n",
      "( ºº GrRALDO rImEIRO COSTA\n",
      "! — ClªJªm: cºncªlves\n",
      "! º — FibRLIs\n",
      "4 3819 : z ºm\n",
      "$ 8 C9 — pememº mªnsºe irmntiçãº ——\n",
      "O 00 d__pe692469751 º1 ªt l uª 09/07/2009 ]\n",
      "ª Q\n",
      "[ Secc\n",
      "I º é\n",
      "4 hrª 2\n",
      "| g ºs -,7“. bni\n",
      "O ªªª . 91/07/2019\n",
      "g Nººªle G, ºª 87394504246\n",
      "ºº — ªbgªm bdr PBO39217795\n",
      "OMNICe < ªºs SuE C º ª º0s Vº\n",
      "\n"
     ]
    }
   ],
   "source": [
    "# Print the raw OCR output\n",
    "print(\"Extracted Text: \", text_data)"
   ]
  },
  {
   "cell_type": "code",
   "execution_count": 8,
   "id": "2144db6e-4405-4b53-9c3d-4da5a61af337",
   "metadata": {},
   "outputs": [],
   "source": [
    "# Date patterns (this can be customized based on your document formats)\n",
    "date_patterns = [\n",
    "    r'\\b\\d{2}/\\d{2}/\\d{4}\\b',  # Matches dates in the format DD/MM/YYYY or MM/DD/YYYY\n",
    "    r'\\b\\d{4}-\\d{2}-\\d{2}\\b',  # Matches dates in the format YYYY-MM-DD\n",
    "    r'\\b\\d{2}-\\d{2}-\\d{4}\\b'   # Matches dates in the format DD-MM-YYYY or MM-DD-YYYY\n",
    "]"
   ]
  },
  {
   "cell_type": "code",
   "execution_count": 9,
   "id": "ff1189ff-9c46-4b6a-93cd-09f8720d6cfb",
   "metadata": {},
   "outputs": [
    {
     "name": "stdout",
     "output_type": "stream",
     "text": [
      "Dates Found: ['01/09/1990', '09/07/2009', '91/07/2019']\n"
     ]
    }
   ],
   "source": [
    "dates_found = []\n",
    "for pattern in date_patterns:\n",
    "    matches = re.findall(pattern, text_data)\n",
    "    dates_found.extend(matches)\n",
    "\n",
    "print(\"Dates Found:\", dates_found)"
   ]
  },
  {
   "cell_type": "code",
   "execution_count": null,
   "id": "8956ff88-a124-4a0a-a26b-ab874396f7a9",
   "metadata": {},
   "outputs": [],
   "source": [
    "# Display the preprocessed image (optional, for debugging)\n",
    "cv2.imshow('Processed Image', threshold_img)\n",
    "cv2.waitKey(0)\n",
    "cv2.destroyAllWindows()"
   ]
  }
 ],
 "metadata": {
  "kernelspec": {
   "display_name": "Python 3 (ipykernel)",
   "language": "python",
   "name": "python3"
  },
  "language_info": {
   "codemirror_mode": {
    "name": "ipython",
    "version": 3
   },
   "file_extension": ".py",
   "mimetype": "text/x-python",
   "name": "python",
   "nbconvert_exporter": "python",
   "pygments_lexer": "ipython3",
   "version": "3.12.7"
  }
 },
 "nbformat": 4,
 "nbformat_minor": 5
}
